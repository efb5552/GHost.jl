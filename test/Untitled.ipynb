{
 "cells": [
  {
   "cell_type": "code",
   "execution_count": 1,
   "id": "46c11443-b6a8-4aa9-bceb-db37df21e2ce",
   "metadata": {},
   "outputs": [
    {
     "data": {
      "text/plain": [
       "String"
      ]
     },
     "execution_count": 1,
     "metadata": {},
     "output_type": "execute_result"
    }
   ],
   "source": [
    "x = \"x\"\n",
    "typeof(x)"
   ]
  },
  {
   "cell_type": "code",
   "execution_count": 2,
   "id": "7fb43cd5-d7c3-4f0e-90b6-45dbf449195a",
   "metadata": {},
   "outputs": [
    {
     "name": "stdout",
     "output_type": "stream",
     "text": [
      "Found"
     ]
    }
   ],
   "source": [
    "l = [\"x\",\"y\"]\n",
    "\n",
    "if x in l\n",
    "    print(\"Found\")\n",
    "end"
   ]
  },
  {
   "cell_type": "code",
   "execution_count": null,
   "id": "e70f1e88-cfff-4880-aad7-f2a9a70db5af",
   "metadata": {},
   "outputs": [],
   "source": []
  }
 ],
 "metadata": {
  "kernelspec": {
   "display_name": "Julia 1.9.2",
   "language": "julia",
   "name": "julia-1.9"
  },
  "language_info": {
   "file_extension": ".jl",
   "mimetype": "application/julia",
   "name": "julia",
   "version": "1.9.2"
  }
 },
 "nbformat": 4,
 "nbformat_minor": 5
}
